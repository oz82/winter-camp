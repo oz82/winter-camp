{
 "cells": [
  {
   "cell_type": "code",
   "execution_count": 15,
   "id": "5ca8b397",
   "metadata": {},
   "outputs": [],
   "source": [
    "def generate_universal_set(column, n, factor):\n",
    "    result = []\n",
    "    # enumeration\n",
    "    for i in range(n):\n",
    "        balance = i\n",
    "        array = []\n",
    "        for j, f in enumerate(factor):\n",
    "            quotient = int(balance / f)\n",
    "            #print(\"%d - %d - %d\" % (i, f, quotient))\n",
    "            array.append(column[j][quotient])\n",
    "            balance = balance - quotient * f\n",
    "        result.append(array)\n",
    "    return result"
   ]
  },
  {
   "cell_type": "code",
   "execution_count": 16,
   "id": "55762aa9",
   "metadata": {},
   "outputs": [],
   "source": [
    "file_path = \"credit.data\"\n",
    "f = open(file_path, \"r\")\n",
    "lines = f.read().splitlines()\n",
    "num_row = len(lines) - 1\n",
    "for line in lines:\n",
    "    if line.startswith('#'):\n",
    "        num_col = len(line[1:].split('\\t'))\n",
    "        break\n",
    "num_feat = num_col - 1"
   ]
  },
  {
   "cell_type": "code",
   "execution_count": 17,
   "id": "9270836f",
   "metadata": {},
   "outputs": [],
   "source": [
    "data = []\n",
    "title = []\n",
    "column = []\n",
    "sets = [set() for i in range(num_feat)]"
   ]
  },
  {
   "cell_type": "code",
   "execution_count": 18,
   "id": "0d4c8b6e",
   "metadata": {},
   "outputs": [],
   "source": [
    "for line in lines:\n",
    "    if line.startswith('#'):\n",
    "        title = line[1:].split('\\t')\n",
    "        continue\n",
    "    values = line.split('\\t')\n",
    "    data.append(values)\n",
    "    for i in range(num_feat):\n",
    "        sets[i].add(values[i])"
   ]
  },
  {
   "cell_type": "code",
   "execution_count": 19,
   "id": "17ca699c",
   "metadata": {},
   "outputs": [],
   "source": [
    "n = 1\n",
    "for a_set in sets:\n",
    "    column.append(list(a_set))\n",
    "    n = n * len(a_set)"
   ]
  },
  {
   "cell_type": "code",
   "execution_count": 20,
   "id": "388069ba",
   "metadata": {},
   "outputs": [],
   "source": [
    "factor = [0] * num_feat\n",
    "temp = 1\n",
    "for i in reversed(range(1, num_feat)):\n",
    "    temp = temp * len(column[i])\n",
    "    factor[i - 1] = temp\n",
    "factor[len(factor)-1] = 1"
   ]
  },
  {
   "cell_type": "code",
   "execution_count": 21,
   "id": "9977a442",
   "metadata": {},
   "outputs": [],
   "source": [
    "input = \"no!yes:low,middle,debtless;average,*,debtless;average,young,indebted;high,*,*\"\n",
    "parts = input.split(':')\n",
    "target_label = parts[0].split('!')[1] # yes\n",
    "other_label = parts[0].split('!')[0]  # no\n",
    "rules = parts[1].split(';')\n",
    "array = generate_universal_set(column, n, factor)"
   ]
  },
  {
   "cell_type": "code",
   "execution_count": 22,
   "id": "131d0d0f",
   "metadata": {},
   "outputs": [],
   "source": [
    "for element in array:\n",
    "    found = False\n",
    "    for rule in rules:\n",
    "        rule_array = rule.split(',')\n",
    "        c = 0\n",
    "        for i in range(num_feat):\n",
    "            if rule_array[i] == element[i] or rule_array[i] == '*':\n",
    "                c = c + 1\n",
    "        if c == num_feat:\n",
    "            element.append(target_label)\n",
    "            found = True\n",
    "    if found == False:\n",
    "        element.append(other_label)"
   ]
  },
  {
   "cell_type": "code",
   "execution_count": 23,
   "id": "aa86d7d4",
   "metadata": {},
   "outputs": [],
   "source": [
    "c = 0\n",
    "for i in range(len(array)):\n",
    "    for j in range(len(data)):\n",
    "        if array[i] == data[j]:\n",
    "            c = c + 1"
   ]
  },
  {
   "cell_type": "code",
   "execution_count": 24,
   "id": "5ee0f2d5",
   "metadata": {},
   "outputs": [
    {
     "name": "stdout",
     "output_type": "stream",
     "text": [
      "rule accuracy: 1.000000\n"
     ]
    }
   ],
   "source": [
    "print(\"rule accuracy: %f\" % (c / len(data)))"
   ]
  },
  {
   "cell_type": "code",
   "execution_count": null,
   "id": "c667309b",
   "metadata": {},
   "outputs": [],
   "source": []
  }
 ],
 "metadata": {
  "kernelspec": {
   "display_name": "Python 3 (ipykernel)",
   "language": "python",
   "name": "python3"
  },
  "language_info": {
   "codemirror_mode": {
    "name": "ipython",
    "version": 3
   },
   "file_extension": ".py",
   "mimetype": "text/x-python",
   "name": "python",
   "nbconvert_exporter": "python",
   "pygments_lexer": "ipython3",
   "version": "3.9.13"
  }
 },
 "nbformat": 4,
 "nbformat_minor": 5
}
