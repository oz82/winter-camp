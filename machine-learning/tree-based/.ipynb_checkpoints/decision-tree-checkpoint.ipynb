{
 "cells": [
  {
   "cell_type": "code",
   "execution_count": 59,
   "id": "f775be5b",
   "metadata": {},
   "outputs": [],
   "source": [
    "import math\n",
    "\n",
    "# dosya okuma\n",
    "file_path = \"credit.data\"\n",
    "f = open(file_path, \"r\")\n",
    "lines = f.read().splitlines()\n",
    "num_row = len(lines) - 1\n",
    "for line in lines:\n",
    "    if line.startswith('#'):\n",
    "        num_col = len(line[1:].split('\\t'))\n",
    "        break\n",
    "num_feat = num_col - 1"
   ]
  },
  {
   "cell_type": "code",
   "execution_count": 60,
   "id": "3b9984b4",
   "metadata": {},
   "outputs": [],
   "source": [
    "# kullanılacak veri yapılarının tanımlanması\n",
    "data = [] # veri tablosu\n",
    "title = [] # başlıklar\n",
    "column = [] # özniteliklerin aldığı değer kümeleri\n",
    "sets = [set() for i in range(num_col)] # kümeler için geçici değişken"
   ]
  },
  {
   "cell_type": "code",
   "execution_count": 61,
   "id": "4281d971",
   "metadata": {
    "scrolled": true
   },
   "outputs": [
    {
     "name": "stdout",
     "output_type": "stream",
     "text": [
      "data >>  [['low', 'young', 'indebted', 'no'], ['low', 'middle', 'debtless', 'yes'], ['low', 'middle', 'indebted', 'no'], ['low', 'old', 'debtless', 'no'], ['low', 'old', 'indebted', 'no'], ['average', 'young', 'debtless', 'yes'], ['average', 'young', 'indebted', 'yes'], ['average', 'middle', 'debtless', 'yes'], ['average', 'old', 'debtless', 'yes'], ['average', 'old', 'indebted', 'no'], ['high', 'young', 'debtless', 'yes'], ['high', 'young', 'indebted', 'yes'], ['high', 'middle', 'debtless', 'yes'], ['high', 'middle', 'indebted', 'yes'], ['high', 'old', 'debtless', 'yes']]\n",
      "\n",
      "title >>  ['salary', 'age', 'debt', 'credit']\n"
     ]
    }
   ],
   "source": [
    "# veri tablosunun oluşturulması\n",
    "for line in lines:\n",
    "    if line.startswith('#'):\n",
    "        title = line[1:].split('\\t')\n",
    "        continue\n",
    "    values = line.split('\\t')\n",
    "    data.append(values)\n",
    "    for i in range(num_col):\n",
    "        sets[i].add(values[i])\n",
    "print(\"data >> \", data)\n",
    "print(\"\\ntitle >> \", title)"
   ]
  },
  {
   "cell_type": "code",
   "execution_count": 62,
   "id": "cccc864b",
   "metadata": {},
   "outputs": [],
   "source": [
    "# özniteliklerin aldığı değer kümelerinin oluşturulması\n",
    "num_val = 0\n",
    "for a_set in sets:\n",
    "    column.append(sorted(list(a_set))) # her bir feature için elde edilen değerler kümesi listeye dönüştürülür\n",
    "    num_val = num_val + len(a_set)\n",
    "num_feat_val = num_val - len(column[-1])\n",
    "num_label = len(column[-1])"
   ]
  },
  {
   "cell_type": "code",
   "execution_count": 63,
   "id": "73db7e5b",
   "metadata": {},
   "outputs": [
    {
     "name": "stdout",
     "output_type": "stream",
     "text": [
      "column >>  [['average', 'high', 'low'], ['middle', 'old', 'young'], ['debtless', 'indebted'], ['no', 'yes']]\n",
      "number of values >>  10\n",
      "number of feature values >>  8\n"
     ]
    }
   ],
   "source": [
    "print(\"column >> \", column)\n",
    "print(\"number of values >> \", num_val)\n",
    "print(\"number of feature values >> \", num_feat_val)"
   ]
  },
  {
   "cell_type": "code",
   "execution_count": 64,
   "id": "5b029011",
   "metadata": {},
   "outputs": [],
   "source": [
    "def entropy(freq):\n",
    "    result = 0.0\n",
    "    sum_ = sum(freq)\n",
    "    for i in range(len(freq)):\n",
    "        p = freq[i] / sum_\n",
    "        if p > 0.0:\n",
    "            result += -1 * p * math.log(p, 2)\n",
    "    return result"
   ]
  },
  {
   "cell_type": "code",
   "execution_count": 65,
   "id": "65dab18c",
   "metadata": {},
   "outputs": [
    {
     "name": "stdout",
     "output_type": "stream",
     "text": [
      "[5, 10]\n",
      "0.9182958340544896\n"
     ]
    }
   ],
   "source": [
    "# yalnızca sınıf etiketlerinin bilindiği sistemin entropisi\n",
    "freq_cls = [0] * num_label\n",
    "for row in data:\n",
    "    freq_cls[column[-1].index(row[-1])] += 1\n",
    "print(freq_cls)\n",
    "entropy_cls = entropy(freq_cls)\n",
    "print(entropy_cls)"
   ]
  },
  {
   "cell_type": "code",
   "execution_count": 66,
   "id": "78e48a5f",
   "metadata": {},
   "outputs": [
    {
     "name": "stdout",
     "output_type": "stream",
     "text": [
      "[[[1, 4], [0, 5], [4, 1]], [[1, 4], [3, 2], [1, 4]], [[1, 7], [4, 3]]]\n",
      "[[5, 5, 5], [5, 5, 5], [8, 7]]\n"
     ]
    }
   ],
   "source": [
    "freq_feat_val_cls = [None] * num_feat\n",
    "freq_feat_val = [None] * num_feat\n",
    "for i in range(num_feat):\n",
    "    freq_feat_val_cls[i] = [[0 for j in range(num_label)] for k in range(len(column[i]))]\n",
    "    freq_feat_val[i] = [0 for j in range(len(column[i]))]\n",
    "\n",
    "for row in data:\n",
    "    for i in range(num_feat):\n",
    "        freq_feat_val_cls[i][column[i].index(row[i])][column[-1].index(row[-1])] += 1\n",
    "        freq_feat_val[i][column[i].index(row[i])] += 1\n",
    "print(freq_feat_val_cls)\n",
    "print(freq_feat_val)"
   ]
  },
  {
   "cell_type": "code",
   "execution_count": 67,
   "id": "9a21549d",
   "metadata": {},
   "outputs": [
    {
     "name": "stdout",
     "output_type": "stream",
     "text": [
      "[0.4812853965915749, 0.804935594743131, 0.7496741665224356]\n"
     ]
    }
   ],
   "source": [
    "entropy_feat = [0.0] * num_feat\n",
    "for i in range(num_feat):\n",
    "    temp = 0.0\n",
    "    for j in range(len(column[i])):\n",
    "        temp += freq_feat_val[i][j] / len(data) * entropy(freq_feat_val_cls[i][j])\n",
    "    entropy_feat[i] = temp\n",
    "print(entropy_feat)"
   ]
  },
  {
   "cell_type": "code",
   "execution_count": 68,
   "id": "e2e27e62",
   "metadata": {},
   "outputs": [
    {
     "name": "stdout",
     "output_type": "stream",
     "text": [
      "[0.4370104374629147, 0.11336023931135852, 0.168621667532054]\n"
     ]
    }
   ],
   "source": [
    "information_feat = [0.0] * num_feat\n",
    "for i in range(num_feat):\n",
    "    information_feat[i] = entropy_cls - entropy_feat[i]\n",
    "print(information_feat)"
   ]
  },
  {
   "cell_type": "code",
   "execution_count": null,
   "id": "9d3196a8",
   "metadata": {},
   "outputs": [],
   "source": []
  }
 ],
 "metadata": {
  "kernelspec": {
   "display_name": "Python 3 (ipykernel)",
   "language": "python",
   "name": "python3"
  },
  "language_info": {
   "codemirror_mode": {
    "name": "ipython",
    "version": 3
   },
   "file_extension": ".py",
   "mimetype": "text/x-python",
   "name": "python",
   "nbconvert_exporter": "python",
   "pygments_lexer": "ipython3",
   "version": "3.9.13"
  }
 },
 "nbformat": 4,
 "nbformat_minor": 5
}
