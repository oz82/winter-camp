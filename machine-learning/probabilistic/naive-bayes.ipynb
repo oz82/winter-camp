{
 "cells": [
  {
   "cell_type": "code",
   "execution_count": 28,
   "id": "cc26edf6",
   "metadata": {},
   "outputs": [],
   "source": [
    "# dosya okuma\n",
    "file_path = \"credit.data\"\n",
    "f = open(file_path, \"r\")\n",
    "lines = f.read().splitlines()\n",
    "num_row = len(lines) - 1\n",
    "for line in lines:\n",
    "    if line.startswith('#'):\n",
    "        num_col = len(line[1:].split('\\t'))\n",
    "        break\n",
    "num_feat = num_col - 1"
   ]
  },
  {
   "cell_type": "code",
   "execution_count": 29,
   "id": "4288a7a3",
   "metadata": {},
   "outputs": [],
   "source": [
    "# kullanılacak veri yapılarının tanımlanması\n",
    "data = [] # veri tablosu\n",
    "title = [] # başlıklar\n",
    "column = [] # özniteliklerin aldığı değer kümeleri\n",
    "sets = [set() for i in range(num_col)] # kümeler için geçici değişken"
   ]
  },
  {
   "cell_type": "code",
   "execution_count": 30,
   "id": "34b80693",
   "metadata": {},
   "outputs": [],
   "source": [
    "# veri tablosunun oluşturulması\n",
    "for line in lines:\n",
    "    if line.startswith('#'):\n",
    "        title = line[1:].split('\\t')\n",
    "        continue\n",
    "    values = line.split('\\t')\n",
    "    data.append(values)\n",
    "    for i in range(num_col):\n",
    "        sets[i].add(values[i])"
   ]
  },
  {
   "cell_type": "code",
   "execution_count": 31,
   "id": "350ea785",
   "metadata": {},
   "outputs": [],
   "source": [
    "# özniteliklerin aldığı değer kümelerinin oluşturulması\n",
    "num_val = 0\n",
    "for a_set in sets:\n",
    "    column.append(sorted(list(a_set))) # her bir feature için elde edilen değerler kümesi listeye dönüştürülür\n",
    "    num_val = num_val + len(a_set)\n",
    "num_feat_val = num_val - len(column[-1])\n",
    "num_label = len(column[-1])"
   ]
  },
  {
   "cell_type": "code",
   "execution_count": 32,
   "id": "650213c1",
   "metadata": {},
   "outputs": [
    {
     "name": "stdout",
     "output_type": "stream",
     "text": [
      "column >>  [['average', 'high', 'low'], ['middle', 'old', 'young'], ['debtless', 'indebted'], ['no', 'yes']]\n",
      "number of values >>  10\n",
      "number of feature values >>  8\n"
     ]
    }
   ],
   "source": [
    "print(\"column >> \", column)\n",
    "print(\"number of values >> \", num_val)\n",
    "print(\"number of feature values >> \", num_feat_val)"
   ]
  },
  {
   "cell_type": "code",
   "execution_count": 33,
   "id": "20c22936",
   "metadata": {},
   "outputs": [],
   "source": [
    "freq_feat_val = [None] * num_feat # sınıflara göre öznitelik değer frekansları\n",
    "freq_cls = [0] * num_label # sınıf etiket frekansları\n",
    "for i in range(num_feat):\n",
    "    freq_feat_val[i] = [[0 for j in range(num_label)] for k in range(len(column[i]))]"
   ]
  },
  {
   "cell_type": "code",
   "execution_count": 34,
   "id": "a18177ce",
   "metadata": {},
   "outputs": [
    {
     "name": "stdout",
     "output_type": "stream",
     "text": [
      "feature value frequencies by classes >>  [[[1, 4], [0, 5], [4, 1]], [[1, 4], [3, 2], [1, 4]], [[1, 7], [4, 3]]]\n",
      "class label frequencies >>  [5, 10]\n"
     ]
    }
   ],
   "source": [
    "for row in data:\n",
    "    for i, value in enumerate(row[:-1]):\n",
    "        freq_feat_val[i][column[i].index(value)][column[-1].index(row[-1])] += 1\n",
    "    freq_cls[column[-1].index(row[-1])] += 1\n",
    "print(\"feature value frequencies by classes >> \", freq_feat_val)\n",
    "print(\"class label frequencies >> \", freq_cls)"
   ]
  },
  {
   "cell_type": "code",
   "execution_count": 35,
   "id": "7e074123",
   "metadata": {},
   "outputs": [
    {
     "name": "stdout",
     "output_type": "stream",
     "text": [
      "feature value frequencies by classes >>  [[[2, 5], [1, 6], [5, 2]], [[2, 5], [4, 3], [2, 5]], [[2, 8], [5, 4]]]\n"
     ]
    }
   ],
   "source": [
    "# Laplace (add-1) smoothing\n",
    "found = False\n",
    "for i in range(num_feat):\n",
    "    for j in range(len(column[i])):\n",
    "        for k in range(num_label):\n",
    "            if freq_feat_val[i][j][k] == 0:\n",
    "                found = True\n",
    "                break\n",
    "if (found):\n",
    "    for i in range(num_feat):\n",
    "        for j in range(len(column[i])):\n",
    "            for k in range(num_label):\n",
    "                freq_feat_val[i][j][k] += 1\n",
    "print(\"feature value frequencies by classes >> \", freq_feat_val)"
   ]
  },
  {
   "cell_type": "code",
   "execution_count": 36,
   "id": "ac93a408",
   "metadata": {},
   "outputs": [
    {
     "name": "stdout",
     "output_type": "stream",
     "text": [
      "conditional probabilities p(x|c) >>  [[[0.4, 0.5], [0.2, 0.6], [1.0, 0.2]], [[0.4, 0.5], [0.8, 0.3], [0.4, 0.5]], [[0.4, 0.8], [1.0, 0.4]]]\n"
     ]
    }
   ],
   "source": [
    "# sınıf etiketlerine göre öznitelik değer koşullu olasılıklarının hesaplanması\n",
    "prob_feat = [None] * num_feat\n",
    "for i in range(num_feat):\n",
    "    prob_feat[i] = [[0 for j in range(num_label)] for k in range(len(column[i]))]\n",
    "for i in range(num_feat):\n",
    "    for j in range(len(column[i])):\n",
    "        for k in range(num_label):\n",
    "            prob_feat[i][j][k] = freq_feat_val[i][j][k] / freq_cls[k]\n",
    "print(\"conditional probabilities p(x|c) >> \", prob_feat)"
   ]
  },
  {
   "cell_type": "code",
   "execution_count": 37,
   "id": "1af05dbe",
   "metadata": {},
   "outputs": [],
   "source": [
    "# verilen bir girdi öznitelik vektörü için soncul olasılığı maksimum olan sınıf etiketini döndüren fonksiyon\n",
    "def predict(input):\n",
    "    post_prob = [1.0] * num_label\n",
    "    for j in range(num_label):\n",
    "        for i, value in enumerate(input):\n",
    "            post_prob[j] *= prob_feat[i][column[i].index(value)][j]\n",
    "    max = 0\n",
    "    for i in range(len(post_prob)):\n",
    "        if post_prob[i] > post_prob[max]:\n",
    "            max = i;\n",
    "    return column[-1][max]"
   ]
  },
  {
   "cell_type": "code",
   "execution_count": 38,
   "id": "930c1ba5",
   "metadata": {
    "scrolled": true
   },
   "outputs": [
    {
     "name": "stdout",
     "output_type": "stream",
     "text": [
      "no\n"
     ]
    }
   ],
   "source": [
    "# tekil test\n",
    "input = ['average', 'middle', 'indebted']\n",
    "print(predict(input))"
   ]
  },
  {
   "cell_type": "code",
   "execution_count": 39,
   "id": "d026ddcb",
   "metadata": {},
   "outputs": [
    {
     "name": "stdout",
     "output_type": "stream",
     "text": [
      "accuracy >>  0.8\n"
     ]
    }
   ],
   "source": [
    "# eğitim verisi üzerinde test\n",
    "c = 0\n",
    "for row in data:\n",
    "    if predict(row[:-1]) == row[-1]:\n",
    "        c += 1\n",
    "print(\"accuracy >> \", c / len(data))"
   ]
  },
  {
   "cell_type": "code",
   "execution_count": null,
   "id": "b3c626eb",
   "metadata": {},
   "outputs": [],
   "source": []
  }
 ],
 "metadata": {
  "kernelspec": {
   "display_name": "Python 3 (ipykernel)",
   "language": "python",
   "name": "python3"
  },
  "language_info": {
   "codemirror_mode": {
    "name": "ipython",
    "version": 3
   },
   "file_extension": ".py",
   "mimetype": "text/x-python",
   "name": "python",
   "nbconvert_exporter": "python",
   "pygments_lexer": "ipython3",
   "version": "3.9.13"
  }
 },
 "nbformat": 4,
 "nbformat_minor": 5
}
