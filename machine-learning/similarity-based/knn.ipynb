{
 "cells": [
  {
   "cell_type": "code",
   "execution_count": 66,
   "id": "985d0a01",
   "metadata": {},
   "outputs": [],
   "source": [
    "# dosya okuma\n",
    "file_path = \"credit.data\"\n",
    "f = open(file_path, \"r\")\n",
    "lines = f.read().splitlines()\n",
    "num_row = len(lines) - 1\n",
    "for line in lines:\n",
    "    if line.startswith('#'):\n",
    "        num_col = len(line[1:].split('\\t'))\n",
    "        break\n",
    "num_feat = num_col - 1"
   ]
  },
  {
   "cell_type": "code",
   "execution_count": 67,
   "id": "e19a52d5",
   "metadata": {},
   "outputs": [],
   "source": [
    "data = [] # veri tablosu\n",
    "column = [] # özniteliklerin aldığı değer kümeleri\n",
    "sets = [set() for i in range(num_col)] # kümeler için geçici değişken\n",
    "for line in lines:\n",
    "    if line.startswith('#'):\n",
    "        title = line[1:].split('\\t')\n",
    "        continue\n",
    "    values = line.split('\\t')\n",
    "    data.append(values)\n",
    "    for i in range(num_col):\n",
    "        sets[i].add(values[i])"
   ]
  },
  {
   "cell_type": "code",
   "execution_count": 68,
   "id": "458f5e25",
   "metadata": {},
   "outputs": [],
   "source": [
    "# column değişkeninin hesaplanması\n",
    "num_val = 0\n",
    "for a_set in sets:\n",
    "    column.append(sorted(list(a_set))) # her bir feature için elde edilen değerler kümesi listeye dönüştürülür\n",
    "    num_val = num_val + len(a_set)\n",
    "num_feat_val = num_val - len(column[-1])\n",
    "num_label = len(column[-1])"
   ]
  },
  {
   "cell_type": "code",
   "execution_count": 69,
   "id": "8908aa1e",
   "metadata": {
    "scrolled": true
   },
   "outputs": [
    {
     "name": "stdout",
     "output_type": "stream",
     "text": [
      "column >>  [['average', 'high', 'low'], ['middle', 'old', 'young'], ['debtless', 'indebted'], ['no', 'yes']]\n",
      "\n",
      "data >>  [['low', 'young', 'indebted', 'no'], ['low', 'middle', 'debtless', 'yes'], ['low', 'middle', 'indebted', 'no'], ['low', 'old', 'debtless', 'no'], ['low', 'old', 'indebted', 'no'], ['average', 'young', 'debtless', 'yes'], ['average', 'young', 'indebted', 'yes'], ['average', 'middle', 'debtless', 'yes'], ['average', 'old', 'debtless', 'yes'], ['average', 'old', 'indebted', 'no'], ['high', 'young', 'debtless', 'yes'], ['high', 'young', 'indebted', 'yes'], ['high', 'middle', 'debtless', 'yes'], ['high', 'middle', 'indebted', 'yes'], ['high', 'old', 'debtless', 'yes']]\n"
     ]
    }
   ],
   "source": [
    "print(\"column >> \", column)\n",
    "print(\"\\ndata >> \", data)"
   ]
  },
  {
   "cell_type": "code",
   "execution_count": 70,
   "id": "dda6c140",
   "metadata": {},
   "outputs": [],
   "source": [
    "# verilen bir girdi öznitelik vektörü için knn algoritmasını işleten fonksiyon\n",
    "def predict(data, input, k):\n",
    "    #similarity = data[:]\n",
    "    similarity = list(map(list, data)) # ilk sütuna benzerlikleri ekleyeceğimiz yeni bir değişken\n",
    "    # böyle bir değişken kullanmayıp data üzerinde değişiklik yaparsak \"pass by reference\" nedeniyle orijinal veri\n",
    "    # bozulabilir\n",
    "    for i, row in enumerate(similarity):\n",
    "        s = 0\n",
    "        for j in range(num_feat):\n",
    "            if row[j] == input[j]: # vektörün ilgili öznitelik değeri veri satırındaki aynı öznitelik değerine eşitse\n",
    "                s += 1\n",
    "        similarity[i].insert(0, s) # hesaplanan benzerliği dizinin başına ekler\n",
    "        \n",
    "    similarity.sort(key=lambda x: x[0], reverse=True) # similarity dizisini 0. sütuna (benzerlik) göre tersten sıralar\n",
    "    #print(similarity)\n",
    "    freq = [0] * num_label # sınıf etiketi sayısı boyutunda tek boyutlu bir frekans dizisi\n",
    "    for s in similarity[0:k]: # ilk k örnek için\n",
    "        freq[column[num_col-1].index(s[-1])] += 1 # ilgili sınıf etiketinin frekansı bir artırılır\n",
    "    #print(freq)\n",
    "    return column[num_col-1][freq.index(max(freq))] # sınıf etiketlerinden en büyük frekansa sahip olan döndürülür"
   ]
  },
  {
   "cell_type": "code",
   "execution_count": 71,
   "id": "57e60d4c",
   "metadata": {},
   "outputs": [
    {
     "name": "stdout",
     "output_type": "stream",
     "text": [
      "yes\n"
     ]
    }
   ],
   "source": [
    "# tekil test\n",
    "input = ['average', 'middle', 'indebted']\n",
    "k = 3\n",
    "print(predict(data, input, k))"
   ]
  },
  {
   "cell_type": "code",
   "execution_count": 72,
   "id": "2cf2c6a9",
   "metadata": {},
   "outputs": [
    {
     "name": "stdout",
     "output_type": "stream",
     "text": [
      "accuracy >>  0.7333333333333333\n"
     ]
    }
   ],
   "source": [
    "# eğitim verisi üzerinde test\n",
    "k = 3\n",
    "c = 0\n",
    "for i, row in enumerate(data):\n",
    "    temp = list(map(list, data)) # üzerinde değişiklik yapabilmek için geçici değişkene data'yı kopyalıyoruz\n",
    "    input = temp[i] # i. örneğin input olduğunu varsayıyoruz\n",
    "    temp.pop(i) # input'u verilerden çıkarıyoruz. bunu yapmazsak kendisini de komşusuymuş gibi sayar (yanlılık)\n",
    "    if predict(temp, input, k) == input[-1]:\n",
    "        c += 1\n",
    "print(\"accuracy >> \", c / len(data))"
   ]
  },
  {
   "cell_type": "code",
   "execution_count": null,
   "id": "fb82cb45",
   "metadata": {},
   "outputs": [],
   "source": []
  }
 ],
 "metadata": {
  "kernelspec": {
   "display_name": "Python 3 (ipykernel)",
   "language": "python",
   "name": "python3"
  },
  "language_info": {
   "codemirror_mode": {
    "name": "ipython",
    "version": 3
   },
   "file_extension": ".py",
   "mimetype": "text/x-python",
   "name": "python",
   "nbconvert_exporter": "python",
   "pygments_lexer": "ipython3",
   "version": "3.9.13"
  }
 },
 "nbformat": 4,
 "nbformat_minor": 5
}
